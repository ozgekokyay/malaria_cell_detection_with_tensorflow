{
  "nbformat": 4,
  "nbformat_minor": 0,
  "metadata": {
    "colab": {
      "name": "malaria_dataset.ipynb adlı not defterinin kopyası",
      "private_outputs": true,
      "provenance": [],
      "collapsed_sections": [],
      "include_colab_link": true
    },
    "kernelspec": {
      "name": "python3",
      "display_name": "Python 3"
    },
    "accelerator": "GPU"
  },
  "cells": [
    {
      "cell_type": "markdown",
      "metadata": {
        "id": "view-in-github",
        "colab_type": "text"
      },
      "source": [
        "<a href=\"https://colab.research.google.com/github/ozgekokyay/malaria_cell_detection_with_tensorflow/blob/main/malaria_dataset.ipynb\" target=\"_parent\"><img src=\"https://colab.research.google.com/assets/colab-badge.svg\" alt=\"Open In Colab\"/></a>"
      ]
    },
    {
      "cell_type": "code",
      "metadata": {
        "id": "FeOcCAcGFNVe"
      },
      "source": [
        "import tensorflow as tf\r\n"
      ],
      "execution_count": null,
      "outputs": []
    },
    {
      "cell_type": "code",
      "metadata": {
        "id": "wgvMxtaCFhps"
      },
      "source": [
        "URL = \"https://ceb.nlm.nih.gov/proj/malaria/cell_images.zip\"\r\n",
        "path_to_zip = tf.keras.utils.get_file('malaria.zip', URL, extract=True)\r\n",
        "path_to_zip"
      ],
      "execution_count": null,
      "outputs": []
    },
    {
      "cell_type": "code",
      "metadata": {
        "id": "4hlpKrR5GoLY"
      },
      "source": [
        "data_dir = \"/root/.keras/datasets/cell_images\""
      ],
      "execution_count": null,
      "outputs": []
    },
    {
      "cell_type": "code",
      "metadata": {
        "id": "opa_X4LZGu2E"
      },
      "source": [
        "IMG_SIZE = (128,128) \r\n",
        "train_dataset = tf.keras.preprocessing.image_dataset_from_directory(data_dir, shuffle=True, batch_size=32, image_size=IMG_SIZE)"
      ],
      "execution_count": null,
      "outputs": []
    },
    {
      "cell_type": "code",
      "metadata": {
        "id": "4FaZsP1uH7zf"
      },
      "source": [
        "num_batches = tf.data.experimental.cardinality(train_dataset)"
      ],
      "execution_count": null,
      "outputs": []
    },
    {
      "cell_type": "code",
      "metadata": {
        "id": "Je6AjMz0IbvO"
      },
      "source": [
        "validation_ratio = 0.8\r\n",
        "num_validation_batches = int(num_batches.numpy() * validation_ratio)\r\n",
        "num_validation_batches"
      ],
      "execution_count": null,
      "outputs": []
    },
    {
      "cell_type": "code",
      "metadata": {
        "id": "NI4pf8gKJ5jb"
      },
      "source": [
        "validation_dataset = train_dataset.take(num_validation_batches)\r\n",
        "train_dataset = train_dataset.skip(num_validation_batches)"
      ],
      "execution_count": null,
      "outputs": []
    },
    {
      "cell_type": "code",
      "metadata": {
        "id": "lTwvRfpuKXPz"
      },
      "source": [
        "tf.data.experimental.cardinality(train_dataset)"
      ],
      "execution_count": null,
      "outputs": []
    },
    {
      "cell_type": "code",
      "metadata": {
        "id": "_Ux8KZASKiwW"
      },
      "source": [
        "tf.data.experimental.cardinality(validation_dataset)"
      ],
      "execution_count": null,
      "outputs": []
    },
    {
      "cell_type": "code",
      "metadata": {
        "id": "v2SxKgHm6saw"
      },
      "source": [
        "validation_dataset"
      ],
      "execution_count": null,
      "outputs": []
    },
    {
      "cell_type": "code",
      "metadata": {
        "id": "VMnyzRq_vbaK"
      },
      "source": [
        "import keras,os\r\n",
        "from tensorflow.keras.models import Sequential\r\n",
        "from tensorflow.keras.layers import Dense, Conv2D, MaxPool2D , Flatten, Dropout, GlobalAveragePooling2D\r\n",
        "import numpy as np"
      ],
      "execution_count": null,
      "outputs": []
    },
    {
      "cell_type": "code",
      "metadata": {
        "id": "RF9XwMsNemkw"
      },
      "source": [
        "model = Sequential()\r\n",
        "model.add(Conv2D(input_shape=(128,128,3),filters=32,kernel_size=(3,3),padding=\"same\", activation=\"relu\"))\r\n",
        "\r\n",
        "model.add(Conv2D(filters=32,kernel_size=(3,3),padding=\"same\", activation=\"relu\"))\r\n",
        "\r\n",
        "model.add(MaxPool2D(pool_size=(2,2),strides=(2,2)))\r\n",
        "model.add(Conv2D(filters=256, kernel_size=(3,3), padding=\"same\", activation=\"relu\"))\r\n",
        "model.add(MaxPool2D(pool_size=(2,2),strides=(2,2)))\r\n",
        "model.add(Conv2D(filters=128, kernel_size=(3,3), padding=\"same\", activation=\"relu\"))\r\n",
        "model.add(Conv2D(filters=128, kernel_size=(3,3), padding=\"same\", activation=\"relu\"))\r\n",
        "model.add(Conv2D(filters=128, kernel_size=(3,3), padding=\"same\", activation=\"relu\"))\r\n",
        "model.add(MaxPool2D(pool_size=(2,2),strides=(2,2)))\r\n",
        "model.add(Conv2D(filters=256, kernel_size=(3,3), padding=\"same\", activation=\"relu\"))\r\n",
        "model.add(MaxPool2D(pool_size=(2,2),strides=(2,2)))"
      ],
      "execution_count": null,
      "outputs": []
    },
    {
      "cell_type": "code",
      "metadata": {
        "id": "InvHx5OWemiq"
      },
      "source": [
        "\r\n",
        "model.add(GlobalAveragePooling2D())\r\n",
        "model.add(Dense(units=128,activation=\"relu\"))\r\n",
        "model.add(Dropout(0.25))\r\n",
        "model.add(Dense(units=64,activation=\"relu\"))\r\n",
        "model.add(Dropout(0.1))\r\n",
        "model.add(Dense(units=1))"
      ],
      "execution_count": null,
      "outputs": []
    },
    {
      "cell_type": "code",
      "metadata": {
        "id": "cNfnXG7UemgB"
      },
      "source": [
        "from keras.optimizers import RMSprop\r\n",
        "opt = RMSprop(lr=0.0001)\r\n",
        "model.compile(optimizer=opt, loss=tf.keras.losses.BinaryCrossentropy(from_logits=True), metrics=['accuracy'])\r\n"
      ],
      "execution_count": null,
      "outputs": []
    },
    {
      "cell_type": "code",
      "metadata": {
        "id": "ANM47GdkdMIt"
      },
      "source": [
        "model.summary()"
      ],
      "execution_count": null,
      "outputs": []
    },
    {
      "cell_type": "code",
      "metadata": {
        "id": "v8YduYEmdQed"
      },
      "source": [
        "model.fit(train_dataset, epochs=8, validation_data=validation_dataset)"
      ],
      "execution_count": null,
      "outputs": []
    }
  ]
}